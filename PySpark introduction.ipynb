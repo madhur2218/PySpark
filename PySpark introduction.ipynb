{
 "cells": [
  {
   "cell_type": "code",
   "execution_count": 1,
   "id": "2eba63f8",
   "metadata": {},
   "outputs": [
    {
     "name": "stdout",
     "output_type": "stream",
     "text": [
      "Requirement already satisfied: pyspark in c:\\users\\madhur\\anaconda3\\lib\\site-packages (3.3.0)Note: you may need to restart the kernel to use updated packages.\n",
      "Requirement already satisfied: py4j==0.10.9.5 in c:\\users\\madhur\\anaconda3\\lib\\site-packages (from pyspark) (0.10.9.5)\n",
      "\n"
     ]
    },
    {
     "name": "stderr",
     "output_type": "stream",
     "text": [
      "\n",
      "[notice] A new release of pip available: 22.2.1 -> 22.2.2\n",
      "[notice] To update, run: python.exe -m pip install --upgrade pip\n"
     ]
    }
   ],
   "source": [
    "pip install pyspark"
   ]
  },
  {
   "cell_type": "code",
   "execution_count": 2,
   "id": "1913ea79",
   "metadata": {},
   "outputs": [],
   "source": [
    "import pyspark"
   ]
  },
  {
   "cell_type": "code",
   "execution_count": 3,
   "id": "e9e6b237",
   "metadata": {},
   "outputs": [],
   "source": [
    "from pyspark.sql import SparkSession"
   ]
  },
  {
   "cell_type": "code",
   "execution_count": 4,
   "id": "02ef8ec4",
   "metadata": {},
   "outputs": [],
   "source": [
    "spark=SparkSession.builder.appName(\"Practice\").getOrCreate()  #Creating a spark session (necessary step)"
   ]
  },
  {
   "cell_type": "code",
   "execution_count": 5,
   "id": "c50c7431",
   "metadata": {},
   "outputs": [
    {
     "data": {
      "text/html": [
       "\n",
       "            <div>\n",
       "                <p><b>SparkSession - in-memory</b></p>\n",
       "                \n",
       "        <div>\n",
       "            <p><b>SparkContext</b></p>\n",
       "\n",
       "            <p><a href=\"http://192.168.1.33:4040\">Spark UI</a></p>\n",
       "\n",
       "            <dl>\n",
       "              <dt>Version</dt>\n",
       "                <dd><code>v3.3.0</code></dd>\n",
       "              <dt>Master</dt>\n",
       "                <dd><code>local[*]</code></dd>\n",
       "              <dt>AppName</dt>\n",
       "                <dd><code>Practice</code></dd>\n",
       "            </dl>\n",
       "        </div>\n",
       "        \n",
       "            </div>\n",
       "        "
      ],
      "text/plain": [
       "<pyspark.sql.session.SparkSession at 0x1927d592f10>"
      ]
     },
     "execution_count": 5,
     "metadata": {},
     "output_type": "execute_result"
    }
   ],
   "source": [
    "spark"
   ]
  },
  {
   "cell_type": "code",
   "execution_count": 6,
   "id": "4d8a8724",
   "metadata": {},
   "outputs": [],
   "source": [
    "df_spark=spark.read.csv(\"USA_Housing.csv\")  # importing a csv file in spark"
   ]
  },
  {
   "cell_type": "code",
   "execution_count": 9,
   "id": "3014e2f9",
   "metadata": {},
   "outputs": [
    {
     "data": {
      "text/plain": [
       "DataFrame[_c0: string, _c1: string, _c2: string, _c3: string, _c4: string, _c5: string, _c6: string]"
      ]
     },
     "execution_count": 9,
     "metadata": {},
     "output_type": "execute_result"
    }
   ],
   "source": [
    "df_spark  # tells us the data types of columns in csv file"
   ]
  },
  {
   "cell_type": "code",
   "execution_count": 12,
   "id": "3f7c3332",
   "metadata": {},
   "outputs": [
    {
     "name": "stdout",
     "output_type": "stream",
     "text": [
      "+------------------+-------------------+--------------------+--------------------+------------------+------------------+--------------------+\n",
      "|               _c0|                _c1|                 _c2|                 _c3|               _c4|               _c5|                 _c6|\n",
      "+------------------+-------------------+--------------------+--------------------+------------------+------------------+--------------------+\n",
      "|  Avg. Area Income|Avg. Area House Age|Avg. Area Number ...|Avg. Area Number ...|   Area Population|             Price|             Address|\n",
      "| 79545.45857431678|  5.682861321615587|   7.009188142792237|                4.09|23086.800502686456|1059033.5578701235|208 Michael Ferry...|\n",
      "|         Laurabury|     NE 37010-5101\"|                null|                null|              null|              null|                null|\n",
      "| 79248.64245482568| 6.0028998082752425|   6.730821019094919|                3.09| 40173.07217364482|  1505890.91484695|188 Johnson Views...|\n",
      "|     Lake Kathleen|          CA 48958\"|                null|                null|              null|              null|                null|\n",
      "|61287.067178656784|  5.865889840310001|   8.512727430375099|                5.13| 36882.15939970458|1058987.9878760849|9127 Elizabeth St...|\n",
      "|        Danieltown|     WI 06482-3489\"|                null|                null|              null|              null|                null|\n",
      "| 63345.24004622798| 7.1882360945186425|   5.586728664827653|                3.26| 34310.24283090706|1260616.8066294468|         USS Barnett|\n",
      "|     FPO AP 44820\"|               null|                null|                null|              null|              null|                null|\n",
      "|59982.197225708034|  5.040554523106283|   7.839387785120487|                4.23|26354.109472103148| 630943.4893385402|        USNS Raymond|\n",
      "|     FPO AE 09386\"|               null|                null|                null|              null|              null|                null|\n",
      "|  80175.7541594853| 4.9884077575337145|   6.104512439428879|                4.04|26748.428424689715|1068138.0743935304|06039 Jennifer Is...|\n",
      "|         Tracyport|          KS 16077\"|                null|                null|              null|              null|                null|\n",
      "| 64698.46342788773|  6.025335906887153|   8.147759585023431|                3.41| 60828.24908540716|1502055.8173744078|4759 Daniel Shoal...|\n",
      "|       Nguyenburgh|          CO 20247\"|                null|                null|              null|              null|                null|\n",
      "| 78394.33927753085| 6.9897797477182815|   6.620477995185026|                2.42|36516.358972493836|1573936.5644777215|   972 Joyce Viaduct|\n",
      "|      Lake William|     TN 17778-6483\"|                null|                null|              null|              null|                null|\n",
      "| 59927.66081334963|   5.36212556960358|  6.3931209805509015|                 2.3| 29387.39600281585| 798869.5328331633|         USS Gilbert|\n",
      "|     FPO AA 20957\"|               null|                null|                null|              null|              null|                null|\n",
      "| 81885.92718409566|  4.423671789897876|   8.167688003472351|                 6.1| 40149.96574921337|1545154.8126419624|  Unit 9446 Box 0958|\n",
      "+------------------+-------------------+--------------------+--------------------+------------------+------------------+--------------------+\n",
      "only showing top 20 rows\n",
      "\n"
     ]
    }
   ],
   "source": [
    "df_spark.show() #used to print out the data frame "
   ]
  },
  {
   "cell_type": "code",
   "execution_count": 13,
   "id": "497e6558",
   "metadata": {},
   "outputs": [
    {
     "data": {
      "text/plain": [
       "DataFrame[Avg. Area Income: string, Avg. Area House Age: string, Avg. Area Number of Rooms: string, Avg. Area Number of Bedrooms: string, Area Population: string, Price: string, Address: string]"
      ]
     },
     "execution_count": 13,
     "metadata": {},
     "output_type": "execute_result"
    }
   ],
   "source": [
    "spark.read.option(\"header\",'true').csv('USA_Housing.csv') #converting the first row into columns in spark"
   ]
  },
  {
   "cell_type": "code",
   "execution_count": 14,
   "id": "41299135",
   "metadata": {},
   "outputs": [
    {
     "name": "stdout",
     "output_type": "stream",
     "text": [
      "+------------------+-------------------+-------------------------+----------------------------+------------------+------------------+--------------------+\n",
      "|  Avg. Area Income|Avg. Area House Age|Avg. Area Number of Rooms|Avg. Area Number of Bedrooms|   Area Population|             Price|             Address|\n",
      "+------------------+-------------------+-------------------------+----------------------------+------------------+------------------+--------------------+\n",
      "| 79545.45857431678|  5.682861321615587|        7.009188142792237|                        4.09|23086.800502686456|1059033.5578701235|208 Michael Ferry...|\n",
      "|         Laurabury|     NE 37010-5101\"|                     null|                        null|              null|              null|                null|\n",
      "| 79248.64245482568| 6.0028998082752425|        6.730821019094919|                        3.09| 40173.07217364482|  1505890.91484695|188 Johnson Views...|\n",
      "|     Lake Kathleen|          CA 48958\"|                     null|                        null|              null|              null|                null|\n",
      "|61287.067178656784|  5.865889840310001|        8.512727430375099|                        5.13| 36882.15939970458|1058987.9878760849|9127 Elizabeth St...|\n",
      "|        Danieltown|     WI 06482-3489\"|                     null|                        null|              null|              null|                null|\n",
      "| 63345.24004622798| 7.1882360945186425|        5.586728664827653|                        3.26| 34310.24283090706|1260616.8066294468|         USS Barnett|\n",
      "|     FPO AP 44820\"|               null|                     null|                        null|              null|              null|                null|\n",
      "|59982.197225708034|  5.040554523106283|        7.839387785120487|                        4.23|26354.109472103148| 630943.4893385402|        USNS Raymond|\n",
      "|     FPO AE 09386\"|               null|                     null|                        null|              null|              null|                null|\n",
      "|  80175.7541594853| 4.9884077575337145|        6.104512439428879|                        4.04|26748.428424689715|1068138.0743935304|06039 Jennifer Is...|\n",
      "|         Tracyport|          KS 16077\"|                     null|                        null|              null|              null|                null|\n",
      "| 64698.46342788773|  6.025335906887153|        8.147759585023431|                        3.41| 60828.24908540716|1502055.8173744078|4759 Daniel Shoal...|\n",
      "|       Nguyenburgh|          CO 20247\"|                     null|                        null|              null|              null|                null|\n",
      "| 78394.33927753085| 6.9897797477182815|        6.620477995185026|                        2.42|36516.358972493836|1573936.5644777215|   972 Joyce Viaduct|\n",
      "|      Lake William|     TN 17778-6483\"|                     null|                        null|              null|              null|                null|\n",
      "| 59927.66081334963|   5.36212556960358|       6.3931209805509015|                         2.3| 29387.39600281585| 798869.5328331633|         USS Gilbert|\n",
      "|     FPO AA 20957\"|               null|                     null|                        null|              null|              null|                null|\n",
      "| 81885.92718409566|  4.423671789897876|        8.167688003472351|                         6.1| 40149.96574921337|1545154.8126419624|  Unit 9446 Box 0958|\n",
      "|     DPO AE 97025\"|               null|                     null|                        null|              null|              null|                null|\n",
      "+------------------+-------------------+-------------------------+----------------------------+------------------+------------------+--------------------+\n",
      "only showing top 20 rows\n",
      "\n"
     ]
    }
   ],
   "source": [
    "spark.read.option(\"header\",'true').csv('USA_Housing.csv').show()"
   ]
  },
  {
   "cell_type": "code",
   "execution_count": 16,
   "id": "4db3fcc2",
   "metadata": {},
   "outputs": [],
   "source": [
    "df_pyspark=spark.read.option(\"header\",'true').csv('USA_Housing.csv')    "
   ]
  },
  {
   "cell_type": "code",
   "execution_count": 17,
   "id": "4cba515f",
   "metadata": {},
   "outputs": [
    {
     "data": {
      "text/plain": [
       "[Row(Avg. Area Income='79545.45857431678', Avg. Area House Age='5.682861321615587', Avg. Area Number of Rooms='7.009188142792237', Avg. Area Number of Bedrooms='4.09', Area Population='23086.800502686456', Price='1059033.5578701235', Address='208 Michael Ferry Apt. 674'),\n",
       " Row(Avg. Area Income='Laurabury', Avg. Area House Age=' NE 37010-5101\"', Avg. Area Number of Rooms=None, Avg. Area Number of Bedrooms=None, Area Population=None, Price=None, Address=None),\n",
       " Row(Avg. Area Income='79248.64245482568', Avg. Area House Age='6.0028998082752425', Avg. Area Number of Rooms='6.730821019094919', Avg. Area Number of Bedrooms='3.09', Area Population='40173.07217364482', Price='1505890.91484695', Address='188 Johnson Views Suite 079')]"
      ]
     },
     "execution_count": 17,
     "metadata": {},
     "output_type": "execute_result"
    }
   ],
   "source": [
    "df_pyspark.head(3)"
   ]
  },
  {
   "cell_type": "code",
   "execution_count": 19,
   "id": "c3186411",
   "metadata": {},
   "outputs": [
    {
     "name": "stdout",
     "output_type": "stream",
     "text": [
      "root\n",
      " |-- Avg. Area Income: string (nullable = true)\n",
      " |-- Avg. Area House Age: string (nullable = true)\n",
      " |-- Avg. Area Number of Rooms: string (nullable = true)\n",
      " |-- Avg. Area Number of Bedrooms: string (nullable = true)\n",
      " |-- Area Population: string (nullable = true)\n",
      " |-- Price: string (nullable = true)\n",
      " |-- Address: string (nullable = true)\n",
      "\n"
     ]
    }
   ],
   "source": [
    "df_pyspark.printSchema() #similar to .info() function in pandas "
   ]
  },
  {
   "cell_type": "code",
   "execution_count": null,
   "id": "3c46dd52",
   "metadata": {},
   "outputs": [],
   "source": []
  }
 ],
 "metadata": {
  "kernelspec": {
   "display_name": "Python 3 (ipykernel)",
   "language": "python",
   "name": "python3"
  },
  "language_info": {
   "codemirror_mode": {
    "name": "ipython",
    "version": 3
   },
   "file_extension": ".py",
   "mimetype": "text/x-python",
   "name": "python",
   "nbconvert_exporter": "python",
   "pygments_lexer": "ipython3",
   "version": "3.9.12"
  }
 },
 "nbformat": 4,
 "nbformat_minor": 5
}
